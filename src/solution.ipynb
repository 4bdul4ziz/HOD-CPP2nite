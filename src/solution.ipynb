{
 "cells": [
  {
   "cell_type": "markdown",
   "metadata": {},
   "source": [
    "Ms Oprah Windfury, an employee of a government agency in charge of the machines in the office, realized that they had been behaving strangely for the past couple of days. They were frequently crashing and receiving unusual error messages, but most importantly, almost all the computers carried several failed logins, hence displaying compromised conditions pertinent to the workings of the machines and devices. Worried that sensitive information may be compromised, she resorted to venerated specialists who told her what she feared most, that a menacing malware had infected them, the Peepeepoopoo. Malware, from a previous incident she knew, was a well-run, well-funded sector devoted to getting around established security measures. Once the malware has infected a machine, it can harm consumers and businesses in several ways. The specialists advised her to seek the cybercrime department’s intel to acquire more perspective. The cybercrime department informed her of the increasing cases of malware infection.\n",
    "\n",
    "\n",
    "The members of the cyber crime department have dedicated their lives to equipping cyber security to the vulnerable commons, legitimate businesses, and governments that needed their help. For the later part of their career, they spent their time ethically collecting data on systems they encountered, hoping it to help their cause. Each row in this dataset corresponds to a machine, uniquely identified by a machine_id. They recorded essential features such as machine version, access to the root shell, and region. Ms Oprah Windfury had decided to approach the data science community to postulate a solution to avoid vital and sensitive information of national importance being given away. When such a cause presented itself to the data science community you are involved in, you, a pompous melioristic member, decided to work on this problem. An ideal way for a data science practitioner to aid Ms Oprah would be to help automate the identification of such outlier machines using the data made by cybersecurity specialists. The team that can make accurate predictions is to be rewarded with riches and honour."
   ]
  },
  {
   "cell_type": "code",
   "execution_count": null,
   "metadata": {},
   "outputs": [],
   "source": [
    "# column names\n",
    "\n",
    "'''\n",
    "## Column Names\n",
    "- `machine_id` - An ID to distinguish between different machines\n",
    "- `security_product_name` - Antivirus installed in the machine\n",
    "- `machine_version` - Version of the machine\n",
    "- `app_version` - Version of the app they use\n",
    "- `av_sig_version` - Version of the anti-virus pack they use. For example: There are different packs of McAfee\n",
    "- `is_beta` - Is the product a beta version\n",
    "- `rtp_state` - RTP stands for Real-time Transport Protocol\n",
    "- `is_sxs_passive` - NA\n",
    "- `av_status` - Status of the anti-virus\n",
    "- `av_prod_installed` - NA\n",
    "- `av_prod_enabled` - NA\n",
    "- `has_tpm` - True if machine has tpm\n",
    "- `country_id` - Country of the machine\n",
    "- `city_id` - City of the machine\n",
    "- `org_id` - ID of the organization it belongs to\n",
    "- `geo_id` - Geometric location ID\n",
    "- `local_name_id` - Identifier of the user in local English name\n",
    "- `platform` - Calculates platform name (of OS related properties and processor property)\n",
    "- `processor` - This is the process architecture of the installed operating system\n",
    "- `os_version` - Version of the Operating System\n",
    "- `os_build` - Build of the current OS\n",
    "- `os_suite` - Product suite mask for the current Operating System\n",
    "- `os_ptfm_sub_release` - Returns the OS Platform sub\n",
    "- `os_build_lab` - Build lab that generated the current OS. Example: 9600.17630.amd64fre.winblue_r7.150109\n",
    "- `sku_edition` - Maps MSDN to SKU\n",
    "- `is_protected` - Checks if there are any AV protects enabled\n",
    "- `auto_sample_opt_in` - NA\n",
    "- `pua_mode` - Mentions the PUA status of the service\n",
    "- `s_mode` - Mentions if apps from untrusted developers can be installed or not\n",
    "- `ie_ver_id` - NA\n",
    "- `smart_screen` - Displays the smart screen string obtained from registry\n",
    "- `firewall` - Shows the firewall status of the device\n",
    "- `uac_luaenable` - Shows if the user type is authorized by the admin in the User Access Control panel\n",
    "- `mdc2_form_factor` -\tMentions the form factor of the device\n",
    "- `device_family` - Mentions the device class\n",
    "- `name_id`- NA\n",
    "- `model_id` - NA\n",
    "- `core_count_processer` - Count of logical cores in the processor\n",
    "- `manufacturer_id` - ID of manufacturer\n",
    "- `model_id` - NA\n",
    "- `processor_class` - Processor class according to price\n",
    "- `disk_capacity` - Disk space available on the machine in megabytes\n",
    "- `disk_type` - The disk type of the primary storage\n",
    "- `system_volume_capacity` - Partition size of the volume on which the OS is stored, in megabytes\n",
    "- `has_optical_drive` - Indicates if the device has a disk drive or not\n",
    "- `ram_capacity` -\tRAM capacity in megabytes\n",
    "- `chassis_type` - Describes the chassis type\n",
    "- `diagonal_display_size` - Diagonal length of display in inches\n",
    "- `display_resolution_horizontal` - Number of pixels in the horizontal direction\n",
    "- `display_resolution_vertical` - Number of pixels in the vertical direction\n",
    "- `power_profile` - Describes the default power profile that came with the machine\n",
    "- `battery_type` - NA\n",
    "- `number_of_charges_for_battery` - NA\n",
    "- `version` - OS version\n",
    "- `architecture` - OS architecture\n",
    "- `branch` - OS branch\n",
    "- `build_number` - OS build number\n",
    "- `build_revision` - OS revision number\n",
    "- `edition` - OS edition\n",
    "- `sku` - OS edition friendly name (currently Windows only)\n",
    "- `install_type_name` - Mentions the type of installation done\n",
    "- `install_language_identifier` - NA\n",
    "- `ui_locale_identifier` - NA\n",
    "- `auto_update_opt` - NA\n",
    "- `os_type_status` - NA\n",
    "- `state_name` - Displays the Genuine State of the Operating System\n",
    "- `activation_channel` - License Key for a machine\n",
    "- `flighting_status` - NA\n",
    "- `flights_activity` - Mentions the flighting status of a machine\n",
    "- `flight_ring`\tMentions the ring that would be receiving flights, if enabled\n",
    "- `threshold_choice` - NA\n",
    "- `malware_status` - NA\n",
    "- `firmware_manufacturer_id` - NA\n",
    "- `firmware_version_id` - NA\n",
    "- `secure_boot_status` -  Mentions the Secure Boot status of the machine\n",
    "- `wim_boot_status` - NA\n",
    "- `virtual_dev_status` - Mentions if the device is actually a Virtual Machine\n",
    "- `touch_support` - Mentions the touch input capability of the device\n",
    "- `pen_support` - Mentions the pen input capability of the device\n",
    "- `aoac_support` - Gives the information about the battery, if it supports AOAC or not\n",
    "- `is_gamer` - Mentions if the device is a gamer device or not\n",
    "- `region_id` - NA\n",
    "'''"
   ]
  },
  {
   "cell_type": "code",
   "execution_count": null,
   "metadata": {},
   "outputs": [],
   "source": [
    "#important columns to keep\n",
    "\n",
    "'''\n",
    "machine_id, \n",
    "security_product_name,\n",
    "machine_version,\n",
    "app_version,\n",
    "av_sig_version,\n",
    "is_beta,\n",
    "rtp_state,\n",
    "av_status,\n",
    "platform,\n",
    "processor,\n",
    "os_version,\n",
    "os_build,\n",
    "os_suite,\n",
    "os_ptfm_sub_release,\n",
    "os_build_lab,\n",
    "is_protected,\n",
    "pua_mode,\n",
    "s_mode,\n",
    "smart_screen,\n",
    "firewall,\n",
    "uac_luaenable,\n",
    "version,\n",
    "architecture,\n",
    "branch\n",
    "build_number,\n",
    "build_revision,\n",
    "edition,\n",
    "install_type_name,\n",
    "state_name,\n",
    "flighting_status,\n",
    "flights_activity,\n",
    "flight_ring,\n",
    "secure_boot_status,\n",
    "malware_status\n",
    "'''\n",
    "\n",
    "#remove everything that is not there in the above list\n",
    "\n",
    "\n"
   ]
  },
  {
   "cell_type": "code",
   "execution_count": 21,
   "metadata": {},
   "outputs": [],
   "source": [
    "#loading data from /data\n",
    "\n",
    "import pandas as pd\n",
    "import numpy as np \n",
    "import matplotlib.pyplot as plt\n",
    "\n",
    "\n",
    "train1 = pd.read_parquet(\n",
    "    '/Users/abdul/Desktop/Programming/HOD-CPP2nite/data/training_data/train1.parquet')\n",
    "train2 = pd.read_parquet(\n",
    "    '/Users/abdul/Desktop/Programming/HOD-CPP2nite/data/training_data/train2.parquet')\n",
    "train3 = pd.read_parquet(\n",
    "    '/Users/abdul/Desktop/Programming/HOD-CPP2nite/data/training_data/train3.parquet')\n",
    "train = pd.concat([train1, train2, train3], axis=0)\n",
    "\n",
    "test1 = pd.read_parquet(\n",
    "    '/Users/abdul/Desktop/Programming/HOD-CPP2nite/data/testing_data/test1.parquet')\n",
    "test2 = pd.read_parquet(\n",
    "    '/Users/abdul/Desktop/Programming/HOD-CPP2nite/data/testing_data/test2.parquet')\n",
    "test3 = pd.read_parquet(\n",
    "    '/Users/abdul/Desktop/Programming/HOD-CPP2nite/data/testing_data/test3.parquet')\n",
    "test = pd.concat([test1, test2, test3], axis=0)"
   ]
  },
  {
   "cell_type": "code",
   "execution_count": 24,
   "metadata": {},
   "outputs": [
    {
     "data": {
      "text/plain": [
       "\" train.to_csv('/Users/abdul/Desktop/Programming/HOD-CPP2nite/data/train.csv', index=False)\\ntest.to_csv('/Users/abdul/Desktop/Programming/HOD-CPP2nite/data/test.csv', index=False)\\n \""
      ]
     },
     "execution_count": 24,
     "metadata": {},
     "output_type": "execute_result"
    }
   ],
   "source": [
    "new = ['machine_id', 'security_product_name', 'machine_version', 'app_version', 'av_sig_version', 'is_beta', 'rtp_state', 'av_status', 'platform', 'processor', 'os_version', 'os_build', 'os_suite', 'os_ptfm_sub_release', 'os_build_lab', 'is_protected', 'pua_mode',\n",
    "             's_mode', 'smart_screen', 'firewall', 'uac_luaenable', 'version', 'architecture', 'branch', 'build_number', 'build_revision', 'edition', 'install_type_name', 'state_name', 'flighting_status', 'flights_activity', 'flight_ring', 'secure_boot_status', 'malware_status']\n",
    "\n",
    "#taking all the columns that are not in the new list and dropping them\n",
    "train = train.drop([col for col in train.columns if col not in new], axis=1)\n",
    "test = test.drop([col for col in test.columns if col not in new], axis=1)\n",
    "\n",
    "#save csv\n",
    "\"\"\" train.to_csv('/Users/abdul/Desktop/Programming/HOD-CPP2nite/data/train.csv', index=False)\n",
    "test.to_csv('/Users/abdul/Desktop/Programming/HOD-CPP2nite/data/test.csv', index=False)\n",
    " \"\"\""
   ]
  },
  {
   "cell_type": "code",
   "execution_count": 22,
   "metadata": {},
   "outputs": [
    {
     "data": {
      "text/plain": [
       "\" train.to_csv(\\n    '/Users/abdul/Desktop/Programming/HOD-CPP2nite/data/tentrain.csv', index=False)\\ntest.to_csv(\\n    '/Users/abdul/Desktop/Programming/HOD-CPP2nite/data/tentest.csv', index=False)\\n \""
      ]
     },
     "execution_count": 22,
     "metadata": {},
     "output_type": "execute_result"
    }
   ],
   "source": [
    "new = ['machine_id', 'security_product_name', 'av_status', 'os_version', 'is_protected',\n",
    "       'firewall', 'version', 'flighting_status', 'secure_boot_status', 'malware_status']\n",
    "\n",
    "#taking all the columns that are not in the new list and dropping them\n",
    "train = train.drop([col for col in train.columns if col not in new], axis=1)\n",
    "test = test.drop([col for col in test.columns if col not in new], axis=1)\n",
    "\n",
    "#save csv\n",
    "\"\"\" train.to_csv(\n",
    "    '/Users/abdul/Desktop/Programming/HOD-CPP2nite/data/tentrain.csv', index=False)\n",
    "test.to_csv(\n",
    "    '/Users/abdul/Desktop/Programming/HOD-CPP2nite/data/tentest.csv', index=False)\n",
    " \"\"\""
   ]
  },
  {
   "cell_type": "code",
   "execution_count": 25,
   "metadata": {},
   "outputs": [
    {
     "data": {
      "text/plain": [
       "34"
      ]
     },
     "execution_count": 25,
     "metadata": {},
     "output_type": "execute_result"
    }
   ],
   "source": [
    "len(new)"
   ]
  },
  {
   "cell_type": "code",
   "execution_count": 26,
   "metadata": {},
   "outputs": [],
   "source": [
    "#removing records with null value in any of its column\n",
    "train = train.dropna()\n",
    "test = test.dropna()"
   ]
  },
  {
   "cell_type": "code",
   "execution_count": 27,
   "metadata": {},
   "outputs": [
    {
     "name": "stdout",
     "output_type": "stream",
     "text": [
      "(993444, 10)\n",
      "(663489, 9)\n",
      "                    security_product_name  av_status os_version  is_protected  \\\n",
      "__null_dask_index__                                                             \n",
      "0                            win8defender    53447.0   10.0.0.0           1.0   \n",
      "0                            win8defender    53447.0   10.0.0.0           1.0   \n",
      "0                            win8defender    53447.0    6.3.0.0           1.0   \n",
      "1                            win8defender    53447.0   10.0.0.0           1.0   \n",
      "1                            win8defender    53447.0   10.0.0.0           1.0   \n",
      "...                                   ...        ...        ...           ...   \n",
      "131157                       win8defender    53447.0   10.0.0.0           1.0   \n",
      "131166                       win8defender    53447.0   10.0.0.0           1.0   \n",
      "131170                       win8defender    22234.0   10.0.0.0           1.0   \n",
      "131177                       win8defender    61343.0   10.0.0.0           0.0   \n",
      "131194                       win8defender    48510.0   10.0.0.0           1.0   \n",
      "\n",
      "                     firewall           version  flighting_status  \\\n",
      "__null_dask_index__                                                 \n",
      "0                         1.0    10.0.16299.431               0.0   \n",
      "0                         1.0    10.0.17134.228               0.0   \n",
      "0                         1.0    10.0.15063.483               0.0   \n",
      "1                         1.0    10.0.17134.137               0.0   \n",
      "1                         1.0    10.0.16299.371               0.0   \n",
      "...                       ...               ...               ...   \n",
      "131157                    1.0      10.0.10586.0               0.0   \n",
      "131166                    1.0  10.0.10240.17443               0.0   \n",
      "131170                    1.0    10.0.16299.492               0.0   \n",
      "131177                    1.0   10.0.10586.1176               0.0   \n",
      "131194                    1.0    10.0.15063.786               0.0   \n",
      "\n",
      "                     secure_boot_status  machine_id  \n",
      "__null_dask_index__                                  \n",
      "0                                     0           2  \n",
      "0                                     0           8  \n",
      "0                                     1          55  \n",
      "1                                     1          74  \n",
      "1                                     0          96  \n",
      "...                                 ...         ...  \n",
      "131157                                0     9921314  \n",
      "131166                                0     9921349  \n",
      "131170                                0     9921368  \n",
      "131177                                1     9921401  \n",
      "131194                                1     9921449  \n",
      "\n",
      "[663489 rows x 9 columns]\n",
      "                    security_product_name  av_status os_version  is_protected  \\\n",
      "__null_dask_index__                                                             \n",
      "0                            win8defender    68585.0   10.0.0.0           1.0   \n",
      "0                            win8defender    53447.0   10.0.0.0           1.0   \n",
      "0                            win8defender     3025.0   10.0.0.0           1.0   \n",
      "0                            win8defender    53447.0   10.0.0.0           1.0   \n",
      "0                            win8defender    53447.0   10.0.0.0           1.0   \n",
      "...                                   ...        ...        ...           ...   \n",
      "131177                       win8defender    53447.0   10.0.0.0           1.0   \n",
      "131178                       win8defender    53447.0   10.0.0.0           1.0   \n",
      "131186                       win8defender    53447.0   10.0.0.0           1.0   \n",
      "131192                       win8defender    41571.0   10.0.0.0           1.0   \n",
      "131200                       win8defender    53447.0   10.0.0.0           1.0   \n",
      "\n",
      "                     firewall           version  flighting_status  \\\n",
      "__null_dask_index__                                                 \n",
      "0                         1.0  10.0.10240.17443               0.0   \n",
      "0                         1.0    10.0.16299.248               0.0   \n",
      "0                         1.0   10.0.10586.1176               0.0   \n",
      "0                         1.0    10.0.17134.112               0.0   \n",
      "0                         1.0    10.0.17134.228               0.0   \n",
      "...                       ...               ...               ...   \n",
      "131177                    1.0  10.0.10240.17443               0.0   \n",
      "131178                    1.0    10.0.17134.228               0.0   \n",
      "131186                    1.0    10.0.16299.431               0.0   \n",
      "131192                    1.0    10.0.17134.165               0.0   \n",
      "131200                    1.0    10.0.17134.228               0.0   \n",
      "\n",
      "                     secure_boot_status  malware_status  machine_id  \n",
      "__null_dask_index__                                                  \n",
      "0                                     0               1          20  \n",
      "0                                     0               1          24  \n",
      "0                                     0               0          43  \n",
      "0                                     1               1          47  \n",
      "0                                     1               1          59  \n",
      "...                                 ...             ...         ...  \n",
      "131177                                1               1     9921402  \n",
      "131178                                0               1     9921404  \n",
      "131186                                1               1     9921430  \n",
      "131192                                0               1     9921446  \n",
      "131200                                1               1     9921463  \n",
      "\n",
      "[993444 rows x 10 columns]\n"
     ]
    }
   ],
   "source": [
    "print(train.shape)\n",
    "print(test.shape)\n",
    "print(test)\n",
    "print(train)"
   ]
  },
  {
   "cell_type": "code",
   "execution_count": 28,
   "metadata": {},
   "outputs": [
    {
     "name": "stdout",
     "output_type": "stream",
     "text": [
      "Index(['security_product_name', 'av_status', 'os_version', 'is_protected',\n",
      "       'firewall', 'version', 'flighting_status', 'secure_boot_status',\n",
      "       'malware_status', 'machine_id'],\n",
      "      dtype='object')\n",
      "(993444, 10)\n"
     ]
    },
    {
     "data": {
      "text/plain": [
       "0    507881\n",
       "1    485563\n",
       "Name: malware_status, dtype: int64"
      ]
     },
     "execution_count": 28,
     "metadata": {},
     "output_type": "execute_result"
    }
   ],
   "source": [
    "print(train.columns)\n",
    "print(train.shape)\n",
    "train['malware_status'].value_counts()"
   ]
  },
  {
   "cell_type": "code",
   "execution_count": 29,
   "metadata": {},
   "outputs": [
    {
     "name": "stdout",
     "output_type": "stream",
     "text": [
      "Index(['security_product_name', 'av_status', 'os_version', 'is_protected',\n",
      "       'firewall', 'version', 'flighting_status', 'secure_boot_status',\n",
      "       'machine_id'],\n",
      "      dtype='object')\n",
      "(663489, 9)\n"
     ]
    }
   ],
   "source": [
    "print(test.columns)\n",
    "print(test.shape)"
   ]
  },
  {
   "cell_type": "code",
   "execution_count": 30,
   "metadata": {},
   "outputs": [
    {
     "data": {
      "text/plain": [
       "0    507881\n",
       "1    485563\n",
       "Name: malware_status, dtype: int64"
      ]
     },
     "execution_count": 30,
     "metadata": {},
     "output_type": "execute_result"
    }
   ],
   "source": [
    "train['malware_status'].value_counts()"
   ]
  },
  {
   "cell_type": "code",
   "execution_count": 68,
   "metadata": {},
   "outputs": [
    {
     "name": "stderr",
     "output_type": "stream",
     "text": [
      "/var/folders/kh/vjrj1xvj5jd2tsy0w3350xzw0000gn/T/ipykernel_94882/1804185215.py:2: DtypeWarning: Columns (15) have mixed types. Specify dtype option on import or set low_memory=False.\n",
      "  train = pd.read_csv('new_train.csv')\n",
      "/var/folders/kh/vjrj1xvj5jd2tsy0w3350xzw0000gn/T/ipykernel_94882/1804185215.py:3: DtypeWarning: Columns (15) have mixed types. Specify dtype option on import or set low_memory=False.\n",
      "  test = pd.read_csv('new_test.csv')\n"
     ]
    },
    {
     "name": "stdout",
     "output_type": "stream",
     "text": [
      "(5950285, 34)\n",
      "Index(['security_product_name', 'machine_version', 'app_version',\n",
      "       'av_sig_version', 'is_beta', 'rtp_state', 'av_status', 'platform',\n",
      "       'processor', 'os_version', 'os_build', 'os_suite',\n",
      "       'os_ptfm_sub_release', 'os_build_lab', 'is_protected', 'pua_mode',\n",
      "       's_mode', 'smart_screen', 'firewall', 'uac_luaenable', 'version',\n",
      "       'architecture', 'branch', 'build_number', 'build_revision', 'edition',\n",
      "       'install_type_name', 'state_name', 'flighting_status',\n",
      "       'flights_activity', 'flight_ring', 'secure_boot_status',\n",
      "       'malware_status', 'machine_id'],\n",
      "      dtype='object')\n",
      "(3971198, 33)\n",
      "Index(['security_product_name', 'machine_version', 'app_version',\n",
      "       'av_sig_version', 'is_beta', 'rtp_state', 'av_status', 'platform',\n",
      "       'processor', 'os_version', 'os_build', 'os_suite',\n",
      "       'os_ptfm_sub_release', 'os_build_lab', 'is_protected', 'pua_mode',\n",
      "       's_mode', 'smart_screen', 'firewall', 'uac_luaenable', 'version',\n",
      "       'architecture', 'branch', 'build_number', 'build_revision', 'edition',\n",
      "       'install_type_name', 'state_name', 'flighting_status',\n",
      "       'flights_activity', 'flight_ring', 'secure_boot_status', 'machine_id'],\n",
      "      dtype='object')\n"
     ]
    },
    {
     "data": {
      "text/plain": [
       "1    2975535\n",
       "0    2974750\n",
       "Name: malware_status, dtype: int64"
      ]
     },
     "execution_count": 68,
     "metadata": {},
     "output_type": "execute_result"
    }
   ],
   "source": [
    "#load the data\n",
    "train = pd.read_csv('new_train.csv')\n",
    "test = pd.read_csv('new_test.csv')\n",
    "\n",
    "#display the shape of the data\n",
    "print(train.shape)\n",
    "\n",
    "#display the columns\n",
    "print(train.columns)\n",
    "\n",
    "#display the shape of the data\n",
    "print(test.shape)\n",
    "\n",
    "#display the columns\n",
    "print(test.columns)\n",
    "\n",
    "#display the malware_status\n",
    "train['malware_status'].value_counts()"
   ]
  },
  {
   "cell_type": "code",
   "execution_count": 72,
   "metadata": {},
   "outputs": [
    {
     "name": "stdout",
     "output_type": "stream",
     "text": [
      "(3831946, 34)\n",
      "Index(['security_product_name', 'machine_version', 'app_version',\n",
      "       'av_sig_version', 'is_beta', 'rtp_state', 'av_status', 'platform',\n",
      "       'processor', 'os_version', 'os_build', 'os_suite',\n",
      "       'os_ptfm_sub_release', 'os_build_lab', 'is_protected', 'pua_mode',\n",
      "       's_mode', 'smart_screen', 'firewall', 'uac_luaenable', 'version',\n",
      "       'architecture', 'branch', 'build_number', 'build_revision', 'edition',\n",
      "       'install_type_name', 'state_name', 'flighting_status',\n",
      "       'flights_activity', 'flight_ring', 'secure_boot_status',\n",
      "       'malware_status', 'machine_id'],\n",
      "      dtype='object')\n",
      "(2556629, 33)\n",
      "Index(['security_product_name', 'machine_version', 'app_version',\n",
      "       'av_sig_version', 'is_beta', 'rtp_state', 'av_status', 'platform',\n",
      "       'processor', 'os_version', 'os_build', 'os_suite',\n",
      "       'os_ptfm_sub_release', 'os_build_lab', 'is_protected', 'pua_mode',\n",
      "       's_mode', 'smart_screen', 'firewall', 'uac_luaenable', 'version',\n",
      "       'architecture', 'branch', 'build_number', 'build_revision', 'edition',\n",
      "       'install_type_name', 'state_name', 'flighting_status',\n",
      "       'flights_activity', 'flight_ring', 'secure_boot_status', 'machine_id'],\n",
      "      dtype='object')\n"
     ]
    }
   ],
   "source": [
    "#if smart_screen is not present, delete the record\n",
    "train = train.dropna(subset=['smart_screen'])\n",
    "test = test.dropna(subset=['smart_screen'])\n",
    "train = train.dropna(subset=['is_protected'])\n",
    "test = test.dropna(subset=['is_protected'])\n",
    "#display the shape of the data\n",
    "print(train.shape)\n",
    "\n",
    "#display the columns\n",
    "print(train.columns)\n",
    "\n",
    "#display the shape of the data\n",
    "print(test.shape)\n",
    "\n",
    "#display the columns\n",
    "print(test.columns)\n",
    "\n"
   ]
  },
  {
   "cell_type": "code",
   "execution_count": 31,
   "metadata": {},
   "outputs": [
    {
     "data": {
      "text/plain": [
       "0    507881\n",
       "1    485563\n",
       "Name: malware_status, dtype: int64"
      ]
     },
     "execution_count": 31,
     "metadata": {},
     "output_type": "execute_result"
    }
   ],
   "source": [
    "# display the malware_status\n",
    "train['malware_status'].value_counts()"
   ]
  },
  {
   "cell_type": "code",
   "execution_count": 11,
   "metadata": {},
   "outputs": [],
   "source": [
    "#for all the columns, if the machine_id of new_train is equal to the machine_id of new_test, and the malware_status of new_train is equal to 1, extract all of those values and store is as a new csv file\n",
    "train[train['malware_status'] == 1].to_csv('new_train_malware.csv', index=False)"
   ]
  },
  {
   "cell_type": "code",
   "execution_count": 75,
   "metadata": {},
   "outputs": [],
   "source": [
    "#for all machine_id in new_train, if the machine_id is not present in new_test, delete the record and store that as a new csv\n",
    "train[~train['machine_id'].isin(test['machine_id'])].to_csv('enew_train.csv', index=False)\n"
   ]
  },
  {
   "cell_type": "code",
   "execution_count": 32,
   "metadata": {},
   "outputs": [
    {
     "name": "stdout",
     "output_type": "stream",
     "text": [
      "(794755, 9)\n",
      "(198689, 9)\n",
      "(794755,)\n",
      "(198689,)\n",
      "0.5816326017041709\n",
      "[[61131 40305]\n",
      " [42820 54433]]\n",
      "              precision    recall  f1-score   support\n",
      "\n",
      "           0       0.59      0.60      0.60    101436\n",
      "           1       0.57      0.56      0.57     97253\n",
      "\n",
      "    accuracy                           0.58    198689\n",
      "   macro avg       0.58      0.58      0.58    198689\n",
      "weighted avg       0.58      0.58      0.58    198689\n",
      "\n",
      "0.5811804804478491\n"
     ]
    },
    {
     "data": {
      "image/png": "[encoded data removed]",
      "text/plain": [
       "<Figure size 640x480 with 1 Axes>"
      ]
     },
     "metadata": {},
     "output_type": "display_data"
    }
   ],
   "source": [
    "#make the classifier model based on the extra column present in the train set and not in the test set\n",
    "#this is the malware_status column\n",
    "#this is the column that we are trying to predict\n",
    "from sklearn.model_selection import train_test_split\n",
    "from sklearn.metrics import accuracy_score\n",
    "from sklearn.metrics import confusion_matrix\n",
    "from sklearn.metrics import classification_report\n",
    "from sklearn.metrics import roc_auc_score\n",
    "from sklearn.metrics import roc_curve\n",
    "from sklearn.metrics import auc\n",
    "\n",
    "from sklearn import preprocessing\n",
    "le = preprocessing.LabelEncoder()\n",
    "new_train_encoded = train.apply(le.fit_transform)\n",
    "\n",
    "\n",
    "\n",
    "#split the data into train and test\n",
    "X_train, X_test, y_train, y_test = train_test_split(new_train_encoded.drop(\n",
    "    ['malware_status'], axis=1), new_train_encoded['malware_status'], test_size=0.2, random_state=42)\n",
    "\n",
    "\n",
    "\n",
    "#display the shape of the train and test data\n",
    "print(X_train.shape)\n",
    "print(X_test.shape)\n",
    "print(y_train.shape)\n",
    "print(y_test.shape)\n",
    "\n",
    "#build the model\n",
    "from sklearn.ensemble import RandomForestClassifier\n",
    "model = RandomForestClassifier(n_estimators=100, random_state=42)\n",
    "model.fit(X_train, y_train)\n",
    "\n",
    "#predict the model\n",
    "y_pred = model.predict(X_test)\n",
    "\n",
    "#display the accuracy score\n",
    "print(accuracy_score(y_test, y_pred))\n",
    "\n",
    "#display the confusion matrix\n",
    "print(confusion_matrix(y_test, y_pred))\n",
    "\n",
    "#display the classification report\n",
    "print(classification_report(y_test, y_pred))\n",
    "\n",
    "#display the roc_auc_score\n",
    "print(roc_auc_score(y_test, y_pred))\n",
    "\n",
    "#display the roc_curve\n",
    "fpr, tpr, thresholds = roc_curve(y_test, y_pred)\n",
    "roc_auc = auc(fpr, tpr)\n",
    "plt.title('Receiver Operating Characteristic')\n",
    "plt.plot(fpr, tpr, 'b', label='AUC = %0.2f'% roc_auc)\n",
    "plt.legend(loc='lower right')\n",
    "plt.plot([0,1],[0,1],'r--')\n",
    "plt.xlim([0,1])\n",
    "plt.ylim([0,1])\n",
    "plt.ylabel('True Positive Rate')\n",
    "plt.xlabel('False Positive Rate')\n",
    "plt.show()"
   ]
  },
  {
   "cell_type": "code",
   "execution_count": 33,
   "metadata": {},
   "outputs": [
    {
     "name": "stdout",
     "output_type": "stream",
     "text": [
      "0.5816326017041709\n",
      "[[61131 40305]\n",
      " [42820 54433]]\n",
      "              precision    recall  f1-score   support\n",
      "\n",
      "           0       0.59      0.60      0.60    101436\n",
      "           1       0.57      0.56      0.57     97253\n",
      "\n",
      "    accuracy                           0.58    198689\n",
      "   macro avg       0.58      0.58      0.58    198689\n",
      "weighted avg       0.58      0.58      0.58    198689\n",
      "\n"
     ]
    }
   ],
   "source": [
    "#display the accuracy score\n",
    "print(accuracy_score(y_test, y_pred))\n",
    "\n",
    "#display the confusion matrix\n",
    "print(confusion_matrix(y_test, y_pred))\n",
    "\n",
    "#display the classification report\n",
    "print(classification_report(y_test, y_pred))"
   ]
  },
  {
   "cell_type": "code",
   "execution_count": 79,
   "metadata": {},
   "outputs": [],
   "source": [
    "new = ['machine_id', 'security_product_name', 'av_status', 'os_version', 'is_protected', 'firewall', 'version', 'flighting_status', 'secure_boot_status', 'malware_status']\n",
    "\n",
    "#taking all the columns that are not in the new list and dropping them\n",
    "train = train.drop([col for col in train.columns if col not in new], axis=1)\n",
    "test = test.drop([col for col in test.columns if col not in new], axis=1)\n",
    "\n",
    "#save csv\n",
    "train.to_csv(\n",
    "    '/Users/abdul/Desktop/Programming/HOD-CPP2nite/data/tentrain.csv', index=False)\n",
    "test.to_csv(\n",
    "    '/Users/abdul/Desktop/Programming/HOD-CPP2nite/data/tentest.csv', index=False)\n"
   ]
  },
  {
   "cell_type": "code",
   "execution_count": 34,
   "metadata": {},
   "outputs": [
    {
     "name": "stdout",
     "output_type": "stream",
     "text": [
      "0.5765492805338998\n",
      "[[59155 42281]\n",
      " [41854 55399]]\n",
      "              precision    recall  f1-score   support\n",
      "\n",
      "           0       0.59      0.58      0.58    101436\n",
      "           1       0.57      0.57      0.57     97253\n",
      "\n",
      "    accuracy                           0.58    198689\n",
      "   macro avg       0.58      0.58      0.58    198689\n",
      "weighted avg       0.58      0.58      0.58    198689\n",
      "\n"
     ]
    }
   ],
   "source": [
    "#decision tree\n",
    "from sklearn.tree import DecisionTreeClassifier\n",
    "model = DecisionTreeClassifier()\n",
    "model.fit(X_train, y_train)\n",
    "\n",
    "#predict the model\n",
    "y_pred = model.predict(X_test)\n",
    "\n",
    "#display the accuracy score\n",
    "print(accuracy_score(y_test, y_pred))\n",
    "\n",
    "#display the confusion matrix\n",
    "print(confusion_matrix(y_test, y_pred))\n",
    "\n",
    "#display the classification report\n",
    "print(classification_report(y_test, y_pred))\n"
   ]
  },
  {
   "cell_type": "code",
   "execution_count": 35,
   "metadata": {},
   "outputs": [
    {
     "ename": "KeyboardInterrupt",
     "evalue": "",
     "output_type": "error",
     "traceback": [
      "\u001b[0;31m---------------------------------------------------------------------------\u001b[0m",
      "\u001b[0;31mKeyboardInterrupt\u001b[0m                         Traceback (most recent call last)",
      "Cell \u001b[0;32mIn [35], line 4\u001b[0m\n\u001b[1;32m      2\u001b[0m \u001b[39mfrom\u001b[39;00m \u001b[39msklearn\u001b[39;00m \u001b[39mimport\u001b[39;00m tree\n\u001b[1;32m      3\u001b[0m plt\u001b[39m.\u001b[39mfigure(figsize\u001b[39m=\u001b[39m(\u001b[39m15\u001b[39m, \u001b[39m10\u001b[39m))\n\u001b[0;32m----> 4\u001b[0m tree\u001b[39m.\u001b[39;49mplot_tree(model, feature_names\u001b[39m=\u001b[39;49mX_train\u001b[39m.\u001b[39;49mcolumns, class_names\u001b[39m=\u001b[39;49m[\u001b[39m'\u001b[39;49m\u001b[39m0\u001b[39;49m\u001b[39m'\u001b[39;49m, \u001b[39m'\u001b[39;49m\u001b[39m1\u001b[39;49m\u001b[39m'\u001b[39;49m], filled\u001b[39m=\u001b[39;49m\u001b[39mTrue\u001b[39;49;00m)\n\u001b[1;32m      5\u001b[0m plt\u001b[39m.\u001b[39mshow()\n",
      "File \u001b[0;32m/opt/homebrew/Caskroom/miniforge/base/lib/python3.10/site-packages/sklearn/tree/_export.py:195\u001b[0m, in \u001b[0;36mplot_tree\u001b[0;34m(decision_tree, max_depth, feature_names, class_names, label, filled, impurity, node_ids, proportion, rounded, precision, ax, fontsize)\u001b[0m\n\u001b[1;32m    180\u001b[0m check_is_fitted(decision_tree)\n\u001b[1;32m    182\u001b[0m exporter \u001b[39m=\u001b[39m _MPLTreeExporter(\n\u001b[1;32m    183\u001b[0m     max_depth\u001b[39m=\u001b[39mmax_depth,\n\u001b[1;32m    184\u001b[0m     feature_names\u001b[39m=\u001b[39mfeature_names,\n\u001b[0;32m   (...)\u001b[0m\n\u001b[1;32m    193\u001b[0m     fontsize\u001b[39m=\u001b[39mfontsize,\n\u001b[1;32m    194\u001b[0m )\n\u001b[0;32m--> 195\u001b[0m \u001b[39mreturn\u001b[39;00m exporter\u001b[39m.\u001b[39;49mexport(decision_tree, ax\u001b[39m=\u001b[39;49max)\n",
      "File \u001b[0;32m/opt/homebrew/Caskroom/miniforge/base/lib/python3.10/site-packages/sklearn/tree/_export.py:683\u001b[0m, in \u001b[0;36m_MPLTreeExporter.export\u001b[0;34m(self, decision_tree, ax)\u001b[0m\n\u001b[1;32m    677\u001b[0m     ann\u001b[39m.\u001b[39mupdate_bbox_position_size(renderer)\n\u001b[1;32m    679\u001b[0m \u001b[39mif\u001b[39;00m \u001b[39mself\u001b[39m\u001b[39m.\u001b[39mfontsize \u001b[39mis\u001b[39;00m \u001b[39mNone\u001b[39;00m:\n\u001b[1;32m    680\u001b[0m     \u001b[39m# get figure to data transform\u001b[39;00m\n\u001b[1;32m    681\u001b[0m     \u001b[39m# adjust fontsize to avoid overlap\u001b[39;00m\n\u001b[1;32m    682\u001b[0m     \u001b[39m# get max box width and height\u001b[39;00m\n\u001b[0;32m--> 683\u001b[0m     extents \u001b[39m=\u001b[39m [ann\u001b[39m.\u001b[39mget_bbox_patch()\u001b[39m.\u001b[39mget_window_extent() \u001b[39mfor\u001b[39;00m ann \u001b[39min\u001b[39;00m anns]\n\u001b[1;32m    684\u001b[0m     max_width \u001b[39m=\u001b[39m \u001b[39mmax\u001b[39m([extent\u001b[39m.\u001b[39mwidth \u001b[39mfor\u001b[39;00m extent \u001b[39min\u001b[39;00m extents])\n\u001b[1;32m    685\u001b[0m     max_height \u001b[39m=\u001b[39m \u001b[39mmax\u001b[39m([extent\u001b[39m.\u001b[39mheight \u001b[39mfor\u001b[39;00m extent \u001b[39min\u001b[39;00m extents])\n",
      "File \u001b[0;32m/opt/homebrew/Caskroom/miniforge/base/lib/python3.10/site-packages/sklearn/tree/_export.py:683\u001b[0m, in \u001b[0;36m<listcomp>\u001b[0;34m(.0)\u001b[0m\n\u001b[1;32m    677\u001b[0m     ann\u001b[39m.\u001b[39mupdate_bbox_position_size(renderer)\n\u001b[1;32m    679\u001b[0m \u001b[39mif\u001b[39;00m \u001b[39mself\u001b[39m\u001b[39m.\u001b[39mfontsize \u001b[39mis\u001b[39;00m \u001b[39mNone\u001b[39;00m:\n\u001b[1;32m    680\u001b[0m     \u001b[39m# get figure to data transform\u001b[39;00m\n\u001b[1;32m    681\u001b[0m     \u001b[39m# adjust fontsize to avoid overlap\u001b[39;00m\n\u001b[1;32m    682\u001b[0m     \u001b[39m# get max box width and height\u001b[39;00m\n\u001b[0;32m--> 683\u001b[0m     extents \u001b[39m=\u001b[39m [ann\u001b[39m.\u001b[39;49mget_bbox_patch()\u001b[39m.\u001b[39;49mget_window_extent() \u001b[39mfor\u001b[39;00m ann \u001b[39min\u001b[39;00m anns]\n\u001b[1;32m    684\u001b[0m     max_width \u001b[39m=\u001b[39m \u001b[39mmax\u001b[39m([extent\u001b[39m.\u001b[39mwidth \u001b[39mfor\u001b[39;00m extent \u001b[39min\u001b[39;00m extents])\n\u001b[1;32m    685\u001b[0m     max_height \u001b[39m=\u001b[39m \u001b[39mmax\u001b[39m([extent\u001b[39m.\u001b[39mheight \u001b[39mfor\u001b[39;00m extent \u001b[39min\u001b[39;00m extents])\n",
      "File \u001b[0;32m/opt/homebrew/Caskroom/miniforge/base/lib/python3.10/site-packages/matplotlib/patches.py:602\u001b[0m, in \u001b[0;36mPatch.get_window_extent\u001b[0;34m(self, renderer)\u001b[0m\n\u001b[1;32m    601\u001b[0m \u001b[39mdef\u001b[39;00m \u001b[39mget_window_extent\u001b[39m(\u001b[39mself\u001b[39m, renderer\u001b[39m=\u001b[39m\u001b[39mNone\u001b[39;00m):\n\u001b[0;32m--> 602\u001b[0m     \u001b[39mreturn\u001b[39;00m \u001b[39mself\u001b[39;49m\u001b[39m.\u001b[39;49mget_path()\u001b[39m.\u001b[39mget_extents(\u001b[39mself\u001b[39m\u001b[39m.\u001b[39mget_transform())\n",
      "File \u001b[0;32m/opt/homebrew/Caskroom/miniforge/base/lib/python3.10/site-packages/matplotlib/patches.py:4013\u001b[0m, in \u001b[0;36mFancyBboxPatch.get_path\u001b[0;34m(self)\u001b[0m\n\u001b[1;32m   4011\u001b[0m \u001b[39m# Call boxstyle with squeezed height.\u001b[39;00m\n\u001b[1;32m   4012\u001b[0m \u001b[39mtry\u001b[39;00m:\n\u001b[0;32m-> 4013\u001b[0m     inspect\u001b[39m.\u001b[39;49msignature(boxstyle)\u001b[39m.\u001b[39mbind(x, y, width, height, m_scale)\n\u001b[1;32m   4014\u001b[0m \u001b[39mexcept\u001b[39;00m \u001b[39mTypeError\u001b[39;00m:\n\u001b[1;32m   4015\u001b[0m     \u001b[39m# Don't apply aspect twice.\u001b[39;00m\n\u001b[1;32m   4016\u001b[0m     path \u001b[39m=\u001b[39m boxstyle(x, y, width, height, m_scale, \u001b[39m1\u001b[39m)\n",
      "File \u001b[0;32m/opt/homebrew/Caskroom/miniforge/base/lib/python3.10/inspect.py:3247\u001b[0m, in \u001b[0;36msignature\u001b[0;34m(obj, follow_wrapped, globals, locals, eval_str)\u001b[0m\n\u001b[1;32m   3245\u001b[0m \u001b[39mdef\u001b[39;00m \u001b[39msignature\u001b[39m(obj, \u001b[39m*\u001b[39m, follow_wrapped\u001b[39m=\u001b[39m\u001b[39mTrue\u001b[39;00m, \u001b[39mglobals\u001b[39m\u001b[39m=\u001b[39m\u001b[39mNone\u001b[39;00m, \u001b[39mlocals\u001b[39m\u001b[39m=\u001b[39m\u001b[39mNone\u001b[39;00m, eval_str\u001b[39m=\u001b[39m\u001b[39mFalse\u001b[39;00m):\n\u001b[1;32m   3246\u001b[0m     \u001b[39m\"\"\"Get a signature object for the passed callable.\"\"\"\u001b[39;00m\n\u001b[0;32m-> 3247\u001b[0m     \u001b[39mreturn\u001b[39;00m Signature\u001b[39m.\u001b[39;49mfrom_callable(obj, follow_wrapped\u001b[39m=\u001b[39;49mfollow_wrapped,\n\u001b[1;32m   3248\u001b[0m                                    \u001b[39mglobals\u001b[39;49m\u001b[39m=\u001b[39;49m\u001b[39mglobals\u001b[39;49m, \u001b[39mlocals\u001b[39;49m\u001b[39m=\u001b[39;49m\u001b[39mlocals\u001b[39;49m, eval_str\u001b[39m=\u001b[39;49meval_str)\n",
      "File \u001b[0;32m/opt/homebrew/Caskroom/miniforge/base/lib/python3.10/inspect.py:2995\u001b[0m, in \u001b[0;36mSignature.from_callable\u001b[0;34m(cls, obj, follow_wrapped, globals, locals, eval_str)\u001b[0m\n\u001b[1;32m   2991\u001b[0m \u001b[39m@classmethod\u001b[39m\n\u001b[1;32m   2992\u001b[0m \u001b[39mdef\u001b[39;00m \u001b[39mfrom_callable\u001b[39m(\u001b[39mcls\u001b[39m, obj, \u001b[39m*\u001b[39m,\n\u001b[1;32m   2993\u001b[0m                   follow_wrapped\u001b[39m=\u001b[39m\u001b[39mTrue\u001b[39;00m, \u001b[39mglobals\u001b[39m\u001b[39m=\u001b[39m\u001b[39mNone\u001b[39;00m, \u001b[39mlocals\u001b[39m\u001b[39m=\u001b[39m\u001b[39mNone\u001b[39;00m, eval_str\u001b[39m=\u001b[39m\u001b[39mFalse\u001b[39;00m):\n\u001b[1;32m   2994\u001b[0m     \u001b[39m\"\"\"Constructs Signature for the given callable object.\"\"\"\u001b[39;00m\n\u001b[0;32m-> 2995\u001b[0m     \u001b[39mreturn\u001b[39;00m _signature_from_callable(obj, sigcls\u001b[39m=\u001b[39;49m\u001b[39mcls\u001b[39;49m,\n\u001b[1;32m   2996\u001b[0m                                     follow_wrapper_chains\u001b[39m=\u001b[39;49mfollow_wrapped,\n\u001b[1;32m   2997\u001b[0m                                     \u001b[39mglobals\u001b[39;49m\u001b[39m=\u001b[39;49m\u001b[39mglobals\u001b[39;49m, \u001b[39mlocals\u001b[39;49m\u001b[39m=\u001b[39;49m\u001b[39mlocals\u001b[39;49m, eval_str\u001b[39m=\u001b[39;49meval_str)\n",
      "File \u001b[0;32m/opt/homebrew/Caskroom/miniforge/base/lib/python3.10/inspect.py:2540\u001b[0m, in \u001b[0;36m_signature_from_callable\u001b[0;34m(obj, follow_wrapper_chains, skip_bound_arg, globals, locals, eval_str, sigcls)\u001b[0m\n\u001b[1;32m   2538\u001b[0m \u001b[39mif\u001b[39;00m call \u001b[39mis\u001b[39;00m \u001b[39mnot\u001b[39;00m \u001b[39mNone\u001b[39;00m:\n\u001b[1;32m   2539\u001b[0m     \u001b[39mtry\u001b[39;00m:\n\u001b[0;32m-> 2540\u001b[0m         sig \u001b[39m=\u001b[39m _get_signature_of(call)\n\u001b[1;32m   2541\u001b[0m     \u001b[39mexcept\u001b[39;00m \u001b[39mValueError\u001b[39;00m \u001b[39mas\u001b[39;00m ex:\n\u001b[1;32m   2542\u001b[0m         msg \u001b[39m=\u001b[39m \u001b[39m'\u001b[39m\u001b[39mno signature found for \u001b[39m\u001b[39m{!r}\u001b[39;00m\u001b[39m'\u001b[39m\u001b[39m.\u001b[39mformat(obj)\n",
      "File \u001b[0;32m/opt/homebrew/Caskroom/miniforge/base/lib/python3.10/inspect.py:2456\u001b[0m, in \u001b[0;36m_signature_from_callable\u001b[0;34m(obj, follow_wrapper_chains, skip_bound_arg, globals, locals, eval_str, sigcls)\u001b[0m\n\u001b[1;32m   2451\u001b[0m             \u001b[39mreturn\u001b[39;00m sig\u001b[39m.\u001b[39mreplace(parameters\u001b[39m=\u001b[39mnew_params)\n\u001b[1;32m   2453\u001b[0m \u001b[39mif\u001b[39;00m isfunction(obj) \u001b[39mor\u001b[39;00m _signature_is_functionlike(obj):\n\u001b[1;32m   2454\u001b[0m     \u001b[39m# If it's a pure Python function, or an object that is duck type\u001b[39;00m\n\u001b[1;32m   2455\u001b[0m     \u001b[39m# of a Python function (Cython functions, for instance), then:\u001b[39;00m\n\u001b[0;32m-> 2456\u001b[0m     \u001b[39mreturn\u001b[39;00m _signature_from_function(sigcls, obj,\n\u001b[1;32m   2457\u001b[0m                                     skip_bound_arg\u001b[39m=\u001b[39;49mskip_bound_arg,\n\u001b[1;32m   2458\u001b[0m                                     \u001b[39mglobals\u001b[39;49m\u001b[39m=\u001b[39;49m\u001b[39mglobals\u001b[39;49m, \u001b[39mlocals\u001b[39;49m\u001b[39m=\u001b[39;49m\u001b[39mlocals\u001b[39;49m, eval_str\u001b[39m=\u001b[39;49meval_str)\n\u001b[1;32m   2460\u001b[0m \u001b[39mif\u001b[39;00m _signature_is_builtin(obj):\n\u001b[1;32m   2461\u001b[0m     \u001b[39mreturn\u001b[39;00m _signature_from_builtin(sigcls, obj,\n\u001b[1;32m   2462\u001b[0m                                    skip_bound_arg\u001b[39m=\u001b[39mskip_bound_arg)\n",
      "File \u001b[0;32m/opt/homebrew/Caskroom/miniforge/base/lib/python3.10/inspect.py:2366\u001b[0m, in \u001b[0;36m_signature_from_function\u001b[0;34m(cls, func, skip_bound_arg, globals, locals, eval_str)\u001b[0m\n\u001b[1;32m   2361\u001b[0m     parameters\u001b[39m.\u001b[39mappend(Parameter(name, annotation\u001b[39m=\u001b[39mannotation,\n\u001b[1;32m   2362\u001b[0m                                 kind\u001b[39m=\u001b[39m_VAR_KEYWORD))\n\u001b[1;32m   2364\u001b[0m \u001b[39m# Is 'func' is a pure Python function - don't validate the\u001b[39;00m\n\u001b[1;32m   2365\u001b[0m \u001b[39m# parameters list (for correct order and defaults), it should be OK.\u001b[39;00m\n\u001b[0;32m-> 2366\u001b[0m \u001b[39mreturn\u001b[39;00m \u001b[39mcls\u001b[39;49m(parameters,\n\u001b[1;32m   2367\u001b[0m            return_annotation\u001b[39m=\u001b[39;49mannotations\u001b[39m.\u001b[39;49mget(\u001b[39m'\u001b[39;49m\u001b[39mreturn\u001b[39;49m\u001b[39m'\u001b[39;49m, _empty),\n\u001b[1;32m   2368\u001b[0m            __validate_parameters__\u001b[39m=\u001b[39;49mis_duck_function)\n",
      "File \u001b[0;32m/opt/homebrew/Caskroom/miniforge/base/lib/python3.10/inspect.py:2962\u001b[0m, in \u001b[0;36mSignature.__init__\u001b[0;34m(self, parameters, return_annotation, __validate_parameters__)\u001b[0m\n\u001b[1;32m   2960\u001b[0m             params[name] \u001b[39m=\u001b[39m param\n\u001b[1;32m   2961\u001b[0m     \u001b[39melse\u001b[39;00m:\n\u001b[0;32m-> 2962\u001b[0m         params \u001b[39m=\u001b[39m OrderedDict((param\u001b[39m.\u001b[39;49mname, param) \u001b[39mfor\u001b[39;49;00m param \u001b[39min\u001b[39;49;00m parameters)\n\u001b[1;32m   2964\u001b[0m \u001b[39mself\u001b[39m\u001b[39m.\u001b[39m_parameters \u001b[39m=\u001b[39m types\u001b[39m.\u001b[39mMappingProxyType(params)\n\u001b[1;32m   2965\u001b[0m \u001b[39mself\u001b[39m\u001b[39m.\u001b[39m_return_annotation \u001b[39m=\u001b[39m return_annotation\n",
      "File \u001b[0;32m/opt/homebrew/Caskroom/miniforge/base/lib/python3.10/inspect.py:2962\u001b[0m, in \u001b[0;36m<genexpr>\u001b[0;34m(.0)\u001b[0m\n\u001b[1;32m   2960\u001b[0m             params[name] \u001b[39m=\u001b[39m param\n\u001b[1;32m   2961\u001b[0m     \u001b[39melse\u001b[39;00m:\n\u001b[0;32m-> 2962\u001b[0m         params \u001b[39m=\u001b[39m OrderedDict((param\u001b[39m.\u001b[39mname, param) \u001b[39mfor\u001b[39;00m param \u001b[39min\u001b[39;00m parameters)\n\u001b[1;32m   2964\u001b[0m \u001b[39mself\u001b[39m\u001b[39m.\u001b[39m_parameters \u001b[39m=\u001b[39m types\u001b[39m.\u001b[39mMappingProxyType(params)\n\u001b[1;32m   2965\u001b[0m \u001b[39mself\u001b[39m\u001b[39m.\u001b[39m_return_annotation \u001b[39m=\u001b[39m return_annotation\n",
      "\u001b[0;31mKeyboardInterrupt\u001b[0m: "
     ]
    }
   ],
   "source": [
    "#draw decision tree\n",
    "from sklearn import tree\n",
    "plt.figure(figsize=(15, 10))\n",
    "tree.plot_tree(model, feature_names=X_train.columns, class_names=['0', '1'], filled=True)\n",
    "plt.show()\n"
   ]
  },
  {
   "cell_type": "code",
   "execution_count": 14,
   "metadata": {},
   "outputs": [
    {
     "name": "stderr",
     "output_type": "stream",
     "text": [
      "/opt/homebrew/Caskroom/miniforge/base/lib/python3.10/site-packages/sklearn/linear_model/_logistic.py:444: ConvergenceWarning: lbfgs failed to converge (status=1):\n",
      "STOP: TOTAL NO. of ITERATIONS REACHED LIMIT.\n",
      "\n",
      "Increase the number of iterations (max_iter) or scale the data as shown in:\n",
      "    https://scikit-learn.org/stable/modules/preprocessing.html\n",
      "Please also refer to the documentation for alternative solver options:\n",
      "    https://scikit-learn.org/stable/modules/linear_model.html#logistic-regression\n",
      "  n_iter_i = _check_optimize_result(\n"
     ]
    },
    {
     "name": "stdout",
     "output_type": "stream",
     "text": [
      "Logistic Regression: 0.844444\n",
      "KNN: 0.844444\n",
      "SVM: 0.866667\n",
      "Naive Bayes: 0.844444\n",
      "Random Forest: 0.888889\n",
      "Gradient Boosting: 0.844444\n",
      "Ada Boost: 0.866667\n",
      "Bagging: 0.844444\n",
      "Decision Tree: 0.800000\n",
      "MLP: 0.866667\n"
     ]
    },
    {
     "data": {
      "image/png": "[encoded data removed]",
      "text/plain": [
       "<Figure size 1500x1000 with 1 Axes>"
      ]
     },
     "metadata": {},
     "output_type": "display_data"
    }
   ],
   "source": [
    "# classification algorithms\n",
    "from sklearn.model_selection import train_test_split\n",
    "from sklearn.metrics import accuracy_score\n",
    "from sklearn.metrics import confusion_matrix\n",
    "from sklearn.metrics import classification_report\n",
    "from sklearn.metrics import roc_auc_score\n",
    "from sklearn.metrics import roc_curve\n",
    "from sklearn.metrics import auc\n",
    "from sklearn.linear_model import LogisticRegression\n",
    "from sklearn.neighbors import KNeighborsClassifier\n",
    "from sklearn.svm import SVC\n",
    "from sklearn.naive_bayes import GaussianNB\n",
    "from sklearn.ensemble import RandomForestClassifier\n",
    "from sklearn.ensemble import GradientBoostingClassifier\n",
    "from sklearn.ensemble import AdaBoostClassifier\n",
    "from sklearn.ensemble import BaggingClassifier\n",
    "from sklearn.tree import DecisionTreeClassifier\n",
    "from sklearn.neural_network import MLPClassifier\n",
    "\n",
    "\n",
    "from sklearn import preprocessing\n",
    "le = preprocessing.LabelEncoder()\n",
    "new_train_encoded = train.apply(le.fit_transform)\n",
    "\n",
    "#split the data into train and test\n",
    "X_train, X_test, y_train, y_test = train_test_split(new_train_encoded.drop(\n",
    "    ['malware_status'], axis=1), new_train_encoded['malware_status'], test_size=0.2, random_state=42)\n",
    "\n",
    "\n",
    "# create a list of models\n",
    "models = []\n",
    "models.append(('Logistic Regression', LogisticRegression()))\n",
    "models.append(('KNN', KNeighborsClassifier()))\n",
    "models.append(('SVM', SVC()))\n",
    "models.append(('Naive Bayes', GaussianNB()))\n",
    "models.append(('Random Forest', RandomForestClassifier()))\n",
    "models.append(('Gradient Boosting', GradientBoostingClassifier()))\n",
    "models.append(('Ada Boost', AdaBoostClassifier()))\n",
    "models.append(('Bagging', BaggingClassifier()))\n",
    "models.append(('Decision Tree', DecisionTreeClassifier()))\n",
    "models.append(('MLP', MLPClassifier()))\n",
    "\n",
    "# evaluate each model in turn\n",
    "results = []\n",
    "names = []\n",
    "for name, model in models:\n",
    "    model.fit(X_train, y_train)\n",
    "    y_pred = model.predict(X_test)\n",
    "    accuracy = accuracy_score(y_test, y_pred)\n",
    "    results.append(accuracy)\n",
    "    names.append(name)\n",
    "    msg = \"%s: %f\" % (name, accuracy)\n",
    "    print(msg)\n",
    "\n",
    "#compare the models\n",
    "plt.figure(figsize=(15, 10))\n",
    "plt.bar(names, results)\n",
    "plt.title('Algorithm Comparison')\n",
    "plt.xlabel('Algorithm')\n",
    "plt.ylabel('Accuracy')\n",
    "plt.show()"
   ]
  }
 ],
 "metadata": {
  "kernelspec": {
   "display_name": "Python 3.10.6 ('base')",
   "language": "python",
   "name": "python3"
  },
  "language_info": {
   "codemirror_mode": {
    "name": "ipython",
    "version": 3
   },
   "file_extension": ".py",
   "mimetype": "text/x-python",
   "name": "python",
   "nbconvert_exporter": "python",
   "pygments_lexer": "ipython3",
   "version": "3.10.6"
  },
  "orig_nbformat": 4,
  "vscode": {
   "interpreter": {
    "hash": "c6e4e9f98eb68ad3b7c296f83d20e6de614cb42e90992a65aa266555a3137d0d"
   }
  }
 },
 "nbformat": 4,
 "nbformat_minor": 2
}
